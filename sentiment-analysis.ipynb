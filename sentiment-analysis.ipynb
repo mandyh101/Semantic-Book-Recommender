{
 "cells": [
  {
   "cell_type": "code",
   "id": "initial_id",
   "metadata": {
    "collapsed": true,
    "ExecuteTime": {
     "end_time": "2025-02-08T22:01:22.548037Z",
     "start_time": "2025-02-08T22:01:22.545839Z"
    }
   },
   "source": [
    "#NOTES ON SENTIMENT ANALYSIS AND FINE-TUNING TECHNIQUE\n",
    "#because we are working with text data - we have the ability to extract sentiment from the data (not always possible with traditional data sets. The learning here is that the type of data and teh quality of data you are working with can open up different opportunities in data science projects.\n",
    "\n",
    "#the plan in this section is to be able to classify our text into 7 different emotion categories: fear, anger, disgust, joy, sadness, surprise, neutral (for no emotional content).\n",
    "# we can use an LLM to classify the dominant emotion from the text in our book description\n",
    "# we are going to treat sentiment analysis as a text classification problem but instead of using zero-shot classification the technique we are using is called \"fine-tuning\" in order to get LLMs to define the emotion\n"
   ],
   "outputs": [],
   "execution_count": 1
  },
  {
   "metadata": {
    "ExecuteTime": {
     "end_time": "2025-02-08T22:07:20.777920Z",
     "start_time": "2025-02-08T22:07:20.160045Z"
    }
   },
   "cell_type": "code",
   "source": [
    "import pandas as pd\n",
    "books = pd.read_csv(\"books_with_categories.csv\")\n"
   ],
   "id": "9593aeb590b7cb0a",
   "outputs": [],
   "execution_count": 2
  },
  {
   "metadata": {
    "ExecuteTime": {
     "end_time": "2025-02-08T22:18:19.932370Z",
     "start_time": "2025-02-08T22:17:44.546858Z"
    }
   },
   "cell_type": "code",
   "source": [
    "#initialise the fine-tuning model that has been trained on ekmans 6 emotions\n",
    "# NOTE: use dataloop ai for information on models including accuracy: https://dataloop.ai/library/model/j-hartmann_emotion-english-distilroberta-base/\n",
    "from transformers import pipeline\n",
    "#this is going to test our model emotion classification using the model example snippet. It will score the 6 ekman emotions based on the string we pass to the classifier\n",
    "classifier = pipeline(\"text-classification\",\n",
    "                      model=\"j-hartmann/emotion-english-distilroberta-base\",\n",
    "                      top_k= None,\n",
    "                      device = \"mps\"\n",
    "                      )\n",
    "classifier(\"I love this!\")"
   ],
   "id": "818081ae9359b612",
   "outputs": [
    {
     "data": {
      "text/plain": [
       "config.json:   0%|          | 0.00/1.00k [00:00<?, ?B/s]"
      ],
      "application/vnd.jupyter.widget-view+json": {
       "version_major": 2,
       "version_minor": 0,
       "model_id": "8a0f3786217948a28dcbd02b02422953"
      }
     },
     "metadata": {},
     "output_type": "display_data"
    },
    {
     "data": {
      "text/plain": [
       "pytorch_model.bin:   0%|          | 0.00/329M [00:00<?, ?B/s]"
      ],
      "application/vnd.jupyter.widget-view+json": {
       "version_major": 2,
       "version_minor": 0,
       "model_id": "f2f31574e1564bc59586606fda89c00b"
      }
     },
     "metadata": {},
     "output_type": "display_data"
    },
    {
     "data": {
      "text/plain": [
       "tokenizer_config.json:   0%|          | 0.00/294 [00:00<?, ?B/s]"
      ],
      "application/vnd.jupyter.widget-view+json": {
       "version_major": 2,
       "version_minor": 0,
       "model_id": "cb88b5efe6cc4ae6adc4e7381fca9818"
      }
     },
     "metadata": {},
     "output_type": "display_data"
    },
    {
     "data": {
      "text/plain": [
       "vocab.json:   0%|          | 0.00/798k [00:00<?, ?B/s]"
      ],
      "application/vnd.jupyter.widget-view+json": {
       "version_major": 2,
       "version_minor": 0,
       "model_id": "afb2425c36c84779a96316fd336b7e30"
      }
     },
     "metadata": {},
     "output_type": "display_data"
    },
    {
     "data": {
      "text/plain": [
       "merges.txt:   0%|          | 0.00/456k [00:00<?, ?B/s]"
      ],
      "application/vnd.jupyter.widget-view+json": {
       "version_major": 2,
       "version_minor": 0,
       "model_id": "0f17a664d19f4d9394f4fc33b52f32c2"
      }
     },
     "metadata": {},
     "output_type": "display_data"
    },
    {
     "data": {
      "text/plain": [
       "model.safetensors:   0%|          | 0.00/329M [00:00<?, ?B/s]"
      ],
      "application/vnd.jupyter.widget-view+json": {
       "version_major": 2,
       "version_minor": 0,
       "model_id": "db3689a7541943b6bf23af86ccbcd52c"
      }
     },
     "metadata": {},
     "output_type": "display_data"
    },
    {
     "data": {
      "text/plain": [
       "tokenizer.json:   0%|          | 0.00/1.36M [00:00<?, ?B/s]"
      ],
      "application/vnd.jupyter.widget-view+json": {
       "version_major": 2,
       "version_minor": 0,
       "model_id": "eb023c16a54c4e7e9b4a155757901974"
      }
     },
     "metadata": {},
     "output_type": "display_data"
    },
    {
     "data": {
      "text/plain": [
       "special_tokens_map.json:   0%|          | 0.00/239 [00:00<?, ?B/s]"
      ],
      "application/vnd.jupyter.widget-view+json": {
       "version_major": 2,
       "version_minor": 0,
       "model_id": "f8d63aeaef9340d88825cf2ba0f4573b"
      }
     },
     "metadata": {},
     "output_type": "display_data"
    },
    {
     "name": "stderr",
     "output_type": "stream",
     "text": [
      "Device set to use mps\n"
     ]
    },
    {
     "data": {
      "text/plain": [
       "[[{'label': 'joy', 'score': 0.9771687984466553},\n",
       "  {'label': 'surprise', 'score': 0.00852868054062128},\n",
       "  {'label': 'neutral', 'score': 0.005764597561210394},\n",
       "  {'label': 'anger', 'score': 0.004419781267642975},\n",
       "  {'label': 'sadness', 'score': 0.002092391485348344},\n",
       "  {'label': 'disgust', 'score': 0.001611992483958602},\n",
       "  {'label': 'fear', 'score': 0.00041385178337804973}]]"
      ]
     },
     "execution_count": 3,
     "metadata": {},
     "output_type": "execute_result"
    }
   ],
   "execution_count": 3
  },
  {
   "metadata": {
    "ExecuteTime": {
     "end_time": "2025-02-08T22:25:55.189183Z",
     "start_time": "2025-02-08T22:25:49.671937Z"
    }
   },
   "cell_type": "code",
   "source": [
    "# because descriptions are long, and the emotional tone can vary by sentene, we can get more accuracy by passing in for analysis each sentence in a description rather than the whole description as one chunk. As we can see with an example looking at the first description passing in each sentence:\n",
    "classifier(books[\"description\"][0].split(\".\"))"
   ],
   "id": "cd52d88e56afcfb3",
   "outputs": [
    {
     "data": {
      "text/plain": [
       "[[{'label': 'surprise', 'score': 0.7296027541160583},\n",
       "  {'label': 'neutral', 'score': 0.1403856724500656},\n",
       "  {'label': 'fear', 'score': 0.06816212832927704},\n",
       "  {'label': 'joy', 'score': 0.04794240742921829},\n",
       "  {'label': 'anger', 'score': 0.009156349115073681},\n",
       "  {'label': 'disgust', 'score': 0.002628474263474345},\n",
       "  {'label': 'sadness', 'score': 0.0021221607457846403}],\n",
       " [{'label': 'neutral', 'score': 0.449371337890625},\n",
       "  {'label': 'disgust', 'score': 0.2735912799835205},\n",
       "  {'label': 'joy', 'score': 0.10908260941505432},\n",
       "  {'label': 'sadness', 'score': 0.09362735599279404},\n",
       "  {'label': 'anger', 'score': 0.04047820344567299},\n",
       "  {'label': 'surprise', 'score': 0.026970213279128075},\n",
       "  {'label': 'fear', 'score': 0.006879056803882122}],\n",
       " [{'label': 'neutral', 'score': 0.6462153196334839},\n",
       "  {'label': 'sadness', 'score': 0.24273410439491272},\n",
       "  {'label': 'disgust', 'score': 0.04342260584235191},\n",
       "  {'label': 'surprise', 'score': 0.028300518169999123},\n",
       "  {'label': 'joy', 'score': 0.014211433008313179},\n",
       "  {'label': 'fear', 'score': 0.014084103517234325},\n",
       "  {'label': 'anger', 'score': 0.01103186421096325}],\n",
       " [{'label': 'fear', 'score': 0.928168535232544},\n",
       "  {'label': 'anger', 'score': 0.03219064697623253},\n",
       "  {'label': 'neutral', 'score': 0.012808657251298428},\n",
       "  {'label': 'sadness', 'score': 0.008756839670240879},\n",
       "  {'label': 'surprise', 'score': 0.008597886189818382},\n",
       "  {'label': 'disgust', 'score': 0.008431793190538883},\n",
       "  {'label': 'joy', 'score': 0.0010455806041136384}],\n",
       " [{'label': 'sadness', 'score': 0.9671575427055359},\n",
       "  {'label': 'neutral', 'score': 0.015104170888662338},\n",
       "  {'label': 'disgust', 'score': 0.006480605341494083},\n",
       "  {'label': 'fear', 'score': 0.005394000560045242},\n",
       "  {'label': 'surprise', 'score': 0.0022869419772177935},\n",
       "  {'label': 'anger', 'score': 0.001842890284024179},\n",
       "  {'label': 'joy', 'score': 0.00173387979157269}],\n",
       " [{'label': 'joy', 'score': 0.9327973127365112},\n",
       "  {'label': 'disgust', 'score': 0.03771761432290077},\n",
       "  {'label': 'neutral', 'score': 0.01589193381369114},\n",
       "  {'label': 'sadness', 'score': 0.006444534286856651},\n",
       "  {'label': 'anger', 'score': 0.005025009158998728},\n",
       "  {'label': 'surprise', 'score': 0.0015812104102224112},\n",
       "  {'label': 'fear', 'score': 0.0005423093680292368}],\n",
       " [{'label': 'joy', 'score': 0.652869701385498},\n",
       "  {'label': 'neutral', 'score': 0.25427550077438354},\n",
       "  {'label': 'surprise', 'score': 0.0680832490324974},\n",
       "  {'label': 'sadness', 'score': 0.009909017011523247},\n",
       "  {'label': 'disgust', 'score': 0.00651221489533782},\n",
       "  {'label': 'anger', 'score': 0.004821309819817543},\n",
       "  {'label': 'fear', 'score': 0.0035290250089019537}],\n",
       " [{'label': 'neutral', 'score': 0.5494771003723145},\n",
       "  {'label': 'sadness', 'score': 0.11169013381004333},\n",
       "  {'label': 'disgust', 'score': 0.10400660336017609},\n",
       "  {'label': 'surprise', 'score': 0.07876546680927277},\n",
       "  {'label': 'anger', 'score': 0.06413356214761734},\n",
       "  {'label': 'fear', 'score': 0.05136275663971901},\n",
       "  {'label': 'joy', 'score': 0.040564361959695816}]]"
      ]
     },
     "execution_count": 4,
     "metadata": {},
     "output_type": "execute_result"
    }
   ],
   "execution_count": 4
  },
  {
   "metadata": {
    "ExecuteTime": {
     "end_time": "2025-02-08T23:02:41.038426Z",
     "start_time": "2025-02-08T23:02:41.028948Z"
    }
   },
   "cell_type": "code",
   "source": [
    "# the question now is how we can we make sense of multiple emotions for a book?\n",
    "# the solution we wil try is to add a column for each emotion to each book, and get one maximum score for each emotion for a book.\n",
    "# the code we are writing next is to efficiently extract the max emotion probability for each emotion for each description\n",
    "# this also requires re-ordering each output of emotion analysis to be ordered by label instead of score, so we always have the data in the same expected order\n",
    "\n",
    "import numpy as np\n",
    "# set up our emotions list to use as keys\n",
    "emotion_labels = [\"anger\", \"disgust\", \"fear\", \"joy\", \"sadness\", \"surprise\", \"neutral\"]\n",
    "# initialise empty isbn array that will be used later to merge our data back into the books df\n",
    "isbn = []\n",
    "# define an emotion score dictionary comprehension\n",
    "emotion_scores = {label: [] for label in emotion_labels}\n",
    "\n",
    "def calculate_max_emotion_scores(predictions):\n",
    "    per_emotion_scores = {label: [] for label in emotion_labels}\n",
    "    # print(f\"Number of predictions: {len(predictions)}\")\n",
    "    for prediction in predictions:\n",
    "        # sort predictions in label order instead of score order\n",
    "        sorted_prediction = sorted(prediction, key=lambda x: x[\"label\"])\n",
    "        # for the index and label in emotion_labels array, append the predicted emotion score to the dictionary comprehension\n",
    "        for index, label, in enumerate(emotion_labels):\n",
    "            per_emotion_scores[label].append(sorted_prediction[index][\"score\"])\n",
    "    # and then return the max score for each of the predictions so that for each description we have a dictionary of emotions containing the max probablit score for each of the emotion labels\n",
    "    return {label: np.max(scores) for label, scores in per_emotion_scores.items()}"
   ],
   "id": "1044f9ea5e208a06",
   "outputs": [],
   "execution_count": 25
  },
  {
   "metadata": {
    "ExecuteTime": {
     "end_time": "2025-02-08T22:57:27.134499Z",
     "start_time": "2025-02-08T22:57:24.992778Z"
    }
   },
   "cell_type": "code",
   "source": [
    "# now we want to apply this function for each of the books.\n",
    "# FIRST , a test\n",
    "for i in range(10):\n",
    "    #append the isbn for our book selection to the empty isbn array\n",
    "    isbn.append(books[\"isbn13\"][i])\n",
    "    if not books[\"description\"][i]:\n",
    "        # print(f\"Empty description for book {i}\")\n",
    "        continue\n",
    "\n",
    "    sentences = books[\"description\"][i].split(\".\")\n",
    "    if not sentences:\n",
    "        # print(f\"No sentences found for book {i}\")\n",
    "        continue\n",
    "\n",
    "    predictions = classifier(sentences)\n",
    "    # print(f\"Book {i}: Got {len(predictions)} predictions\")\n",
    "    max_scores = calculate_max_emotion_scores(predictions)\n",
    "    # print(f\"Max emotion scores for book {i}: {max_scores}\")\n",
    "    # take resulting scores returned by the calculate max emotion scores dictionary and append it to the emotion score dictionary\n",
    "    for label in emotion_labels:\n",
    "        emotion_scores[label].append(max_scores[label])\n"
   ],
   "id": "c612997d7cf8d3c",
   "outputs": [
    {
     "name": "stdout",
     "output_type": "stream",
     "text": [
      "Number of predictions: 8\n",
      "Number of predictions: 10\n",
      "Number of predictions: 3\n",
      "Number of predictions: 4\n",
      "Number of predictions: 7\n",
      "Number of predictions: 4\n",
      "Number of predictions: 11\n",
      "Number of predictions: 3\n",
      "Number of predictions: 6\n",
      "Number of predictions: 3\n"
     ]
    }
   ],
   "execution_count": 21
  },
  {
   "metadata": {
    "ExecuteTime": {
     "end_time": "2025-02-08T22:57:29.871492Z",
     "start_time": "2025-02-08T22:57:29.862178Z"
    }
   },
   "cell_type": "code",
   "source": "emotion_scores",
   "id": "b6e3d5a471c5c23a",
   "outputs": [
    {
     "data": {
      "text/plain": [
       "{'anger': [0.06413356214761734,\n",
       "  0.612618625164032,\n",
       "  0.06413356214761734,\n",
       "  0.35148370265960693,\n",
       "  0.0814124196767807,\n",
       "  0.23222501575946808,\n",
       "  0.5381841063499451,\n",
       "  0.06413356214761734,\n",
       "  0.3006702959537506,\n",
       "  0.06413356214761734],\n",
       " 'disgust': [0.2735912799835205,\n",
       "  0.3482849597930908,\n",
       "  0.10400660336017609,\n",
       "  0.15072238445281982,\n",
       "  0.1844952255487442,\n",
       "  0.727174699306488,\n",
       "  0.15585507452487946,\n",
       "  0.10400660336017609,\n",
       "  0.2794807255268097,\n",
       "  0.17792712152004242],\n",
       " 'fear': [0.928168535232544,\n",
       "  0.9425278306007385,\n",
       "  0.9723208546638489,\n",
       "  0.3607065975666046,\n",
       "  0.09504325687885284,\n",
       "  0.05136275663971901,\n",
       "  0.7474278807640076,\n",
       "  0.4044959247112274,\n",
       "  0.9155239462852478,\n",
       "  0.05136275663971901],\n",
       " 'joy': [0.9327973127365112,\n",
       "  0.7044211030006409,\n",
       "  0.7672379612922668,\n",
       "  0.2518810033798218,\n",
       "  0.040564361959695816,\n",
       "  0.04337586089968681,\n",
       "  0.8725655674934387,\n",
       "  0.040564361959695816,\n",
       "  0.040564361959695816,\n",
       "  0.040564361959695816],\n",
       " 'sadness': [0.6462153196334839,\n",
       "  0.887939453125,\n",
       "  0.5494771003723145,\n",
       "  0.732686460018158,\n",
       "  0.8843892216682434,\n",
       "  0.6213930249214172,\n",
       "  0.7121943831443787,\n",
       "  0.5494771003723145,\n",
       "  0.8402897119522095,\n",
       "  0.8603722453117371],\n",
       " 'surprise': [0.9671575427055359,\n",
       "  0.11169013381004333,\n",
       "  0.11169013381004333,\n",
       "  0.11169013381004333,\n",
       "  0.47588104009628296,\n",
       "  0.11169013381004333,\n",
       "  0.4079996347427368,\n",
       "  0.8202822804450989,\n",
       "  0.3544590175151825,\n",
       "  0.11169013381004333],\n",
       " 'neutral': [0.7296027541160583,\n",
       "  0.2525450587272644,\n",
       "  0.07876546680927277,\n",
       "  0.07876546680927277,\n",
       "  0.07876546680927277,\n",
       "  0.2719023823738098,\n",
       "  0.07876546680927277,\n",
       "  0.23448771238327026,\n",
       "  0.13561463356018066,\n",
       "  0.07876546680927277]}"
      ]
     },
     "execution_count": 22,
     "metadata": {},
     "output_type": "execute_result"
    }
   ],
   "execution_count": 22
  },
  {
   "metadata": {
    "ExecuteTime": {
     "end_time": "2025-02-08T23:47:15.871898Z",
     "start_time": "2025-02-08T23:03:12.318164Z"
    }
   },
   "cell_type": "code",
   "source": [
    "# it's working - now lets run this across all books!\n",
    "emotion_labels = [\"anger\", \"disgust\", \"fear\", \"joy\", \"sadness\", \"surprise\", \"neutral\"]\n",
    "# initialise empty isbn array that will be used later to merge our data back into the books df\n",
    "isbn = []\n",
    "# define an emotion score dictionary comprehension\n",
    "emotion_scores = {label: [] for label in emotion_labels}\n",
    "\n",
    "from tqdm import tqdm\n",
    "for i in tqdm(range(len(books))):\n",
    "    #append the isbn for our book selection to the empty isbn array\n",
    "    isbn.append(books[\"isbn13\"][i])\n",
    "    if not books[\"description\"][i]:\n",
    "        # print(f\"Empty description for book {i}\")\n",
    "        continue\n",
    "\n",
    "    sentences = books[\"description\"][i].split(\".\")\n",
    "    if not sentences:\n",
    "        # print(f\"No sentences found for book {i}\")\n",
    "        continue\n",
    "\n",
    "    predictions = classifier(sentences)\n",
    "    # print(f\"Book {i}: Got {len(predictions)} predictions\")\n",
    "    max_scores = calculate_max_emotion_scores(predictions)\n",
    "    # print(f\"Max emotion scores for book {i}: {max_scores}\")\n",
    "    # take resulting scores returned by the calculate max emotion scores dictionary and append it to the emotion score dictionary\n",
    "    for label in emotion_labels:\n",
    "        emotion_scores[label].append(max_scores[label])"
   ],
   "id": "58ae04a283fa3851",
   "outputs": [
    {
     "name": "stderr",
     "output_type": "stream",
     "text": [
      "100%|██████████| 5197/5197 [44:03<00:00,  1.97it/s]     \n"
     ]
    }
   ],
   "execution_count": 26
  },
  {
   "metadata": {
    "ExecuteTime": {
     "end_time": "2025-02-08T23:47:16.238425Z",
     "start_time": "2025-02-08T23:47:16.157775Z"
    }
   },
   "cell_type": "code",
   "source": [
    "# let's take a look at our emotions in a dataframe with an isbn property using out isbn list\n",
    "emotions_df = pd.DataFrame(emotion_scores)\n",
    "emotions_df[\"isbn13\"] = isbn\n",
    "emotions_df\n"
   ],
   "id": "f08b5d8eda0823f3",
   "outputs": [],
   "execution_count": 28
  },
  {
   "metadata": {
    "ExecuteTime": {
     "end_time": "2025-02-08T23:47:16.416596Z",
     "start_time": "2025-02-08T23:47:16.411688Z"
    }
   },
   "cell_type": "code",
   "source": [
    "# then merge the emotion scores back into the books dataset based on isbn13 matches\n",
    "books = pd.merge(books, emotions_df, on=\"isbn13\")"
   ],
   "id": "fa43c0922da1886a",
   "outputs": [],
   "execution_count": 31
  },
  {
   "metadata": {
    "ExecuteTime": {
     "end_time": "2025-02-08T23:47:16.593263Z",
     "start_time": "2025-02-08T23:47:16.435129Z"
    }
   },
   "cell_type": "code",
   "source": [
    "#save our data to csv so we can use it in the next step - creating a dashboard!\n",
    "books.to_csv(\"books_with_emotions.csv\", index=False)"
   ],
   "id": "e1aee1c682dae222",
   "outputs": [],
   "execution_count": 33
  },
  {
   "metadata": {
    "ExecuteTime": {
     "end_time": "2025-02-08T23:47:30.191681Z",
     "start_time": "2025-02-08T23:47:30.138850Z"
    }
   },
   "cell_type": "code",
   "source": "books",
   "id": "8298a1ae567ca71f",
   "outputs": [
    {
     "data": {
      "text/plain": [
       "             isbn13      isbn10  \\\n",
       "0     9780002005883  0002005883   \n",
       "1     9780002261982  0002261987   \n",
       "2     9780006178736  0006178731   \n",
       "3     9780006280897  0006280897   \n",
       "4     9780006280934  0006280935   \n",
       "...             ...         ...   \n",
       "5192  9788172235222  8172235224   \n",
       "5193  9788173031014  8173031010   \n",
       "5194  9788179921623  817992162X   \n",
       "5195  9788185300535  8185300534   \n",
       "5196  9789027712059  9027712050   \n",
       "\n",
       "                                                  title  \\\n",
       "0                                                Gilead   \n",
       "1                                          Spider's Web   \n",
       "2                                        Rage of angels   \n",
       "3                                        The Four Loves   \n",
       "4                                   The Problem of Pain   \n",
       "...                                                 ...   \n",
       "5192                                  Mistaken Identity   \n",
       "5193                                Journey to the East   \n",
       "5194  The Monk Who Sold His Ferrari: A Fable About F...   \n",
       "5195                                          I Am that   \n",
       "5196                           The Berlin Phenomenology   \n",
       "\n",
       "                                           authors  \\\n",
       "0                               Marilynne Robinson   \n",
       "1                  Charles Osborne;Agatha Christie   \n",
       "2                                   Sidney Sheldon   \n",
       "3                              Clive Staples Lewis   \n",
       "4                              Clive Staples Lewis   \n",
       "...                                            ...   \n",
       "5192                              Nayantara Sahgal   \n",
       "5193                                 Hermann Hesse   \n",
       "5194                                  Robin Sharma   \n",
       "5195  Sri Nisargadatta Maharaj;Sudhakar S. Dikshit   \n",
       "5196                 Georg Wilhelm Friedrich Hegel   \n",
       "\n",
       "                         categories  \\\n",
       "0                           Fiction   \n",
       "1     Detective and mystery stories   \n",
       "2                           Fiction   \n",
       "3                    Christian life   \n",
       "4                    Christian life   \n",
       "...                             ...   \n",
       "5192        Indic fiction (English)   \n",
       "5193              Adventure stories   \n",
       "5194               Health & Fitness   \n",
       "5195                     Philosophy   \n",
       "5196                        History   \n",
       "\n",
       "                                              thumbnail  \\\n",
       "0     http://books.google.com/books/content?id=KQZCP...   \n",
       "1     http://books.google.com/books/content?id=gA5GP...   \n",
       "2     http://books.google.com/books/content?id=FKo2T...   \n",
       "3     http://books.google.com/books/content?id=XhQ5X...   \n",
       "4     http://books.google.com/books/content?id=Kk-uV...   \n",
       "...                                                 ...   \n",
       "5192  http://books.google.com/books/content?id=q-tKP...   \n",
       "5193  http://books.google.com/books/content?id=rq6JP...   \n",
       "5194  http://books.google.com/books/content?id=c_7mf...   \n",
       "5195  http://books.google.com/books/content?id=Fv_JP...   \n",
       "5196  http://books.google.com/books/content?id=Vy7Sk...   \n",
       "\n",
       "                                            description  published_year  \\\n",
       "0     A NOVEL THAT READERS and critics have been eag...          2004.0   \n",
       "1     A new 'Christie for Christmas' -- a full-lengt...          2000.0   \n",
       "2     A memorable, mesmerizing heroine Jennifer -- b...          1993.0   \n",
       "3     Lewis' work on the nature of love divides love...          2002.0   \n",
       "4     \"In The Problem of Pain, C.S. Lewis, one of th...          2002.0   \n",
       "...                                                 ...             ...   \n",
       "5192  On A Train Journey Home To North India After L...          2003.0   \n",
       "5193  This book tells the tale of a man who goes on ...          2002.0   \n",
       "5194  Wisdom to Create a Life of Passion, Purpose, a...          2003.0   \n",
       "5195  This collection of the timeless teachings of o...          1999.0   \n",
       "5196  Since the three volume edition ofHegel's Philo...          1981.0   \n",
       "\n",
       "      average_rating  num_pages  ...  sadness_x surprise_x neutral_x  \\\n",
       "0               3.85      247.0  ...   0.646215   0.967158  0.729603   \n",
       "1               3.83      241.0  ...   0.887939   0.111690  0.252545   \n",
       "2               3.93      512.0  ...   0.549477   0.111690  0.078765   \n",
       "3               4.15      170.0  ...   0.732686   0.111690  0.078765   \n",
       "4               4.09      176.0  ...   0.884389   0.475881  0.078765   \n",
       "...              ...        ...  ...        ...        ...       ...   \n",
       "5192            2.93      324.0  ...   0.853722   0.980877  0.030656   \n",
       "5193            3.70      175.0  ...   0.883198   0.111690  0.227765   \n",
       "5194            3.82      198.0  ...   0.375756   0.066685  0.057625   \n",
       "5195            4.51      531.0  ...   0.951104   0.368110  0.078765   \n",
       "5196            0.00      210.0  ...   0.915193   0.111690  0.078765   \n",
       "\n",
       "       anger_y  disgust_y    fear_y     joy_y  sadness_y  surprise_y  \\\n",
       "0     0.064134   0.273591  0.928169  0.932797   0.646215    0.967158   \n",
       "1     0.612619   0.348285  0.942528  0.704421   0.887939    0.111690   \n",
       "2     0.064134   0.104007  0.972321  0.767238   0.549477    0.111690   \n",
       "3     0.351484   0.150722  0.360707  0.251881   0.732686    0.111690   \n",
       "4     0.081412   0.184495  0.095043  0.040564   0.884389    0.475881   \n",
       "...        ...        ...       ...       ...        ...         ...   \n",
       "5192  0.148208   0.030643  0.919165  0.255169   0.853722    0.980877   \n",
       "5193  0.064134   0.114383  0.051363  0.400263   0.883198    0.111690   \n",
       "5194  0.009997   0.009929  0.339217  0.947779   0.375756    0.066685   \n",
       "5195  0.064134   0.104007  0.459269  0.759455   0.951104    0.368110   \n",
       "5196  0.064134   0.104007  0.051363  0.958549   0.915193    0.111690   \n",
       "\n",
       "      neutral_y  \n",
       "0      0.729603  \n",
       "1      0.252545  \n",
       "2      0.078765  \n",
       "3      0.078765  \n",
       "4      0.078765  \n",
       "...         ...  \n",
       "5192   0.030656  \n",
       "5193   0.227765  \n",
       "5194   0.057625  \n",
       "5195   0.078765  \n",
       "5196   0.078765  \n",
       "\n",
       "[5197 rows x 28 columns]"
      ],
      "text/html": [
       "<div>\n",
       "<style scoped>\n",
       "    .dataframe tbody tr th:only-of-type {\n",
       "        vertical-align: middle;\n",
       "    }\n",
       "\n",
       "    .dataframe tbody tr th {\n",
       "        vertical-align: top;\n",
       "    }\n",
       "\n",
       "    .dataframe thead th {\n",
       "        text-align: right;\n",
       "    }\n",
       "</style>\n",
       "<table border=\"1\" class=\"dataframe\">\n",
       "  <thead>\n",
       "    <tr style=\"text-align: right;\">\n",
       "      <th></th>\n",
       "      <th>isbn13</th>\n",
       "      <th>isbn10</th>\n",
       "      <th>title</th>\n",
       "      <th>authors</th>\n",
       "      <th>categories</th>\n",
       "      <th>thumbnail</th>\n",
       "      <th>description</th>\n",
       "      <th>published_year</th>\n",
       "      <th>average_rating</th>\n",
       "      <th>num_pages</th>\n",
       "      <th>...</th>\n",
       "      <th>sadness_x</th>\n",
       "      <th>surprise_x</th>\n",
       "      <th>neutral_x</th>\n",
       "      <th>anger_y</th>\n",
       "      <th>disgust_y</th>\n",
       "      <th>fear_y</th>\n",
       "      <th>joy_y</th>\n",
       "      <th>sadness_y</th>\n",
       "      <th>surprise_y</th>\n",
       "      <th>neutral_y</th>\n",
       "    </tr>\n",
       "  </thead>\n",
       "  <tbody>\n",
       "    <tr>\n",
       "      <th>0</th>\n",
       "      <td>9780002005883</td>\n",
       "      <td>0002005883</td>\n",
       "      <td>Gilead</td>\n",
       "      <td>Marilynne Robinson</td>\n",
       "      <td>Fiction</td>\n",
       "      <td>http://books.google.com/books/content?id=KQZCP...</td>\n",
       "      <td>A NOVEL THAT READERS and critics have been eag...</td>\n",
       "      <td>2004.0</td>\n",
       "      <td>3.85</td>\n",
       "      <td>247.0</td>\n",
       "      <td>...</td>\n",
       "      <td>0.646215</td>\n",
       "      <td>0.967158</td>\n",
       "      <td>0.729603</td>\n",
       "      <td>0.064134</td>\n",
       "      <td>0.273591</td>\n",
       "      <td>0.928169</td>\n",
       "      <td>0.932797</td>\n",
       "      <td>0.646215</td>\n",
       "      <td>0.967158</td>\n",
       "      <td>0.729603</td>\n",
       "    </tr>\n",
       "    <tr>\n",
       "      <th>1</th>\n",
       "      <td>9780002261982</td>\n",
       "      <td>0002261987</td>\n",
       "      <td>Spider's Web</td>\n",
       "      <td>Charles Osborne;Agatha Christie</td>\n",
       "      <td>Detective and mystery stories</td>\n",
       "      <td>http://books.google.com/books/content?id=gA5GP...</td>\n",
       "      <td>A new 'Christie for Christmas' -- a full-lengt...</td>\n",
       "      <td>2000.0</td>\n",
       "      <td>3.83</td>\n",
       "      <td>241.0</td>\n",
       "      <td>...</td>\n",
       "      <td>0.887939</td>\n",
       "      <td>0.111690</td>\n",
       "      <td>0.252545</td>\n",
       "      <td>0.612619</td>\n",
       "      <td>0.348285</td>\n",
       "      <td>0.942528</td>\n",
       "      <td>0.704421</td>\n",
       "      <td>0.887939</td>\n",
       "      <td>0.111690</td>\n",
       "      <td>0.252545</td>\n",
       "    </tr>\n",
       "    <tr>\n",
       "      <th>2</th>\n",
       "      <td>9780006178736</td>\n",
       "      <td>0006178731</td>\n",
       "      <td>Rage of angels</td>\n",
       "      <td>Sidney Sheldon</td>\n",
       "      <td>Fiction</td>\n",
       "      <td>http://books.google.com/books/content?id=FKo2T...</td>\n",
       "      <td>A memorable, mesmerizing heroine Jennifer -- b...</td>\n",
       "      <td>1993.0</td>\n",
       "      <td>3.93</td>\n",
       "      <td>512.0</td>\n",
       "      <td>...</td>\n",
       "      <td>0.549477</td>\n",
       "      <td>0.111690</td>\n",
       "      <td>0.078765</td>\n",
       "      <td>0.064134</td>\n",
       "      <td>0.104007</td>\n",
       "      <td>0.972321</td>\n",
       "      <td>0.767238</td>\n",
       "      <td>0.549477</td>\n",
       "      <td>0.111690</td>\n",
       "      <td>0.078765</td>\n",
       "    </tr>\n",
       "    <tr>\n",
       "      <th>3</th>\n",
       "      <td>9780006280897</td>\n",
       "      <td>0006280897</td>\n",
       "      <td>The Four Loves</td>\n",
       "      <td>Clive Staples Lewis</td>\n",
       "      <td>Christian life</td>\n",
       "      <td>http://books.google.com/books/content?id=XhQ5X...</td>\n",
       "      <td>Lewis' work on the nature of love divides love...</td>\n",
       "      <td>2002.0</td>\n",
       "      <td>4.15</td>\n",
       "      <td>170.0</td>\n",
       "      <td>...</td>\n",
       "      <td>0.732686</td>\n",
       "      <td>0.111690</td>\n",
       "      <td>0.078765</td>\n",
       "      <td>0.351484</td>\n",
       "      <td>0.150722</td>\n",
       "      <td>0.360707</td>\n",
       "      <td>0.251881</td>\n",
       "      <td>0.732686</td>\n",
       "      <td>0.111690</td>\n",
       "      <td>0.078765</td>\n",
       "    </tr>\n",
       "    <tr>\n",
       "      <th>4</th>\n",
       "      <td>9780006280934</td>\n",
       "      <td>0006280935</td>\n",
       "      <td>The Problem of Pain</td>\n",
       "      <td>Clive Staples Lewis</td>\n",
       "      <td>Christian life</td>\n",
       "      <td>http://books.google.com/books/content?id=Kk-uV...</td>\n",
       "      <td>\"In The Problem of Pain, C.S. Lewis, one of th...</td>\n",
       "      <td>2002.0</td>\n",
       "      <td>4.09</td>\n",
       "      <td>176.0</td>\n",
       "      <td>...</td>\n",
       "      <td>0.884389</td>\n",
       "      <td>0.475881</td>\n",
       "      <td>0.078765</td>\n",
       "      <td>0.081412</td>\n",
       "      <td>0.184495</td>\n",
       "      <td>0.095043</td>\n",
       "      <td>0.040564</td>\n",
       "      <td>0.884389</td>\n",
       "      <td>0.475881</td>\n",
       "      <td>0.078765</td>\n",
       "    </tr>\n",
       "    <tr>\n",
       "      <th>...</th>\n",
       "      <td>...</td>\n",
       "      <td>...</td>\n",
       "      <td>...</td>\n",
       "      <td>...</td>\n",
       "      <td>...</td>\n",
       "      <td>...</td>\n",
       "      <td>...</td>\n",
       "      <td>...</td>\n",
       "      <td>...</td>\n",
       "      <td>...</td>\n",
       "      <td>...</td>\n",
       "      <td>...</td>\n",
       "      <td>...</td>\n",
       "      <td>...</td>\n",
       "      <td>...</td>\n",
       "      <td>...</td>\n",
       "      <td>...</td>\n",
       "      <td>...</td>\n",
       "      <td>...</td>\n",
       "      <td>...</td>\n",
       "      <td>...</td>\n",
       "    </tr>\n",
       "    <tr>\n",
       "      <th>5192</th>\n",
       "      <td>9788172235222</td>\n",
       "      <td>8172235224</td>\n",
       "      <td>Mistaken Identity</td>\n",
       "      <td>Nayantara Sahgal</td>\n",
       "      <td>Indic fiction (English)</td>\n",
       "      <td>http://books.google.com/books/content?id=q-tKP...</td>\n",
       "      <td>On A Train Journey Home To North India After L...</td>\n",
       "      <td>2003.0</td>\n",
       "      <td>2.93</td>\n",
       "      <td>324.0</td>\n",
       "      <td>...</td>\n",
       "      <td>0.853722</td>\n",
       "      <td>0.980877</td>\n",
       "      <td>0.030656</td>\n",
       "      <td>0.148208</td>\n",
       "      <td>0.030643</td>\n",
       "      <td>0.919165</td>\n",
       "      <td>0.255169</td>\n",
       "      <td>0.853722</td>\n",
       "      <td>0.980877</td>\n",
       "      <td>0.030656</td>\n",
       "    </tr>\n",
       "    <tr>\n",
       "      <th>5193</th>\n",
       "      <td>9788173031014</td>\n",
       "      <td>8173031010</td>\n",
       "      <td>Journey to the East</td>\n",
       "      <td>Hermann Hesse</td>\n",
       "      <td>Adventure stories</td>\n",
       "      <td>http://books.google.com/books/content?id=rq6JP...</td>\n",
       "      <td>This book tells the tale of a man who goes on ...</td>\n",
       "      <td>2002.0</td>\n",
       "      <td>3.70</td>\n",
       "      <td>175.0</td>\n",
       "      <td>...</td>\n",
       "      <td>0.883198</td>\n",
       "      <td>0.111690</td>\n",
       "      <td>0.227765</td>\n",
       "      <td>0.064134</td>\n",
       "      <td>0.114383</td>\n",
       "      <td>0.051363</td>\n",
       "      <td>0.400263</td>\n",
       "      <td>0.883198</td>\n",
       "      <td>0.111690</td>\n",
       "      <td>0.227765</td>\n",
       "    </tr>\n",
       "    <tr>\n",
       "      <th>5194</th>\n",
       "      <td>9788179921623</td>\n",
       "      <td>817992162X</td>\n",
       "      <td>The Monk Who Sold His Ferrari: A Fable About F...</td>\n",
       "      <td>Robin Sharma</td>\n",
       "      <td>Health &amp; Fitness</td>\n",
       "      <td>http://books.google.com/books/content?id=c_7mf...</td>\n",
       "      <td>Wisdom to Create a Life of Passion, Purpose, a...</td>\n",
       "      <td>2003.0</td>\n",
       "      <td>3.82</td>\n",
       "      <td>198.0</td>\n",
       "      <td>...</td>\n",
       "      <td>0.375756</td>\n",
       "      <td>0.066685</td>\n",
       "      <td>0.057625</td>\n",
       "      <td>0.009997</td>\n",
       "      <td>0.009929</td>\n",
       "      <td>0.339217</td>\n",
       "      <td>0.947779</td>\n",
       "      <td>0.375756</td>\n",
       "      <td>0.066685</td>\n",
       "      <td>0.057625</td>\n",
       "    </tr>\n",
       "    <tr>\n",
       "      <th>5195</th>\n",
       "      <td>9788185300535</td>\n",
       "      <td>8185300534</td>\n",
       "      <td>I Am that</td>\n",
       "      <td>Sri Nisargadatta Maharaj;Sudhakar S. Dikshit</td>\n",
       "      <td>Philosophy</td>\n",
       "      <td>http://books.google.com/books/content?id=Fv_JP...</td>\n",
       "      <td>This collection of the timeless teachings of o...</td>\n",
       "      <td>1999.0</td>\n",
       "      <td>4.51</td>\n",
       "      <td>531.0</td>\n",
       "      <td>...</td>\n",
       "      <td>0.951104</td>\n",
       "      <td>0.368110</td>\n",
       "      <td>0.078765</td>\n",
       "      <td>0.064134</td>\n",
       "      <td>0.104007</td>\n",
       "      <td>0.459269</td>\n",
       "      <td>0.759455</td>\n",
       "      <td>0.951104</td>\n",
       "      <td>0.368110</td>\n",
       "      <td>0.078765</td>\n",
       "    </tr>\n",
       "    <tr>\n",
       "      <th>5196</th>\n",
       "      <td>9789027712059</td>\n",
       "      <td>9027712050</td>\n",
       "      <td>The Berlin Phenomenology</td>\n",
       "      <td>Georg Wilhelm Friedrich Hegel</td>\n",
       "      <td>History</td>\n",
       "      <td>http://books.google.com/books/content?id=Vy7Sk...</td>\n",
       "      <td>Since the three volume edition ofHegel's Philo...</td>\n",
       "      <td>1981.0</td>\n",
       "      <td>0.00</td>\n",
       "      <td>210.0</td>\n",
       "      <td>...</td>\n",
       "      <td>0.915193</td>\n",
       "      <td>0.111690</td>\n",
       "      <td>0.078765</td>\n",
       "      <td>0.064134</td>\n",
       "      <td>0.104007</td>\n",
       "      <td>0.051363</td>\n",
       "      <td>0.958549</td>\n",
       "      <td>0.915193</td>\n",
       "      <td>0.111690</td>\n",
       "      <td>0.078765</td>\n",
       "    </tr>\n",
       "  </tbody>\n",
       "</table>\n",
       "<p>5197 rows × 28 columns</p>\n",
       "</div>"
      ]
     },
     "execution_count": 34,
     "metadata": {},
     "output_type": "execute_result"
    }
   ],
   "execution_count": 34
  }
 ],
 "metadata": {
  "kernelspec": {
   "display_name": "Python 3",
   "language": "python",
   "name": "python3"
  },
  "language_info": {
   "codemirror_mode": {
    "name": "ipython",
    "version": 2
   },
   "file_extension": ".py",
   "mimetype": "text/x-python",
   "name": "python",
   "nbconvert_exporter": "python",
   "pygments_lexer": "ipython2",
   "version": "2.7.6"
  }
 },
 "nbformat": 4,
 "nbformat_minor": 5
}
