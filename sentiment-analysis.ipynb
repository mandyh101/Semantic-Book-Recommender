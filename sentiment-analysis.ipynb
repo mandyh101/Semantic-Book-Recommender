{
 "cells": [
  {
   "cell_type": "code",
   "id": "initial_id",
   "metadata": {
    "collapsed": true,
    "ExecuteTime": {
     "end_time": "2025-02-08T22:01:22.548037Z",
     "start_time": "2025-02-08T22:01:22.545839Z"
    }
   },
   "source": [
    "#NOTES ON SENTIMENT ANALYSIS AND FINE-TUNING TECHNIQUE\n",
    "#because we are working with text data - we have the ability to extract sentiment from the data (not always possible with traditional data sets. The learning here is that the type of data and teh quality of data you are working with can open up different opportunities in data science projects.\n",
    "\n",
    "#the plan in this section is to be able to classify our text into 7 different emotion categories: fear, anger, disgust, joy, sadness, surprise, neutral (for no emotional content).\n",
    "# we can use an LLM to classify the dominant emotion from the text in our book description\n",
    "# we are going to treat sentiment analysis as a text classification problem but instead of using zero-shot classification the technique we are using is called \"fine-tuning\" in order to get LLMs to define the emotion\n"
   ],
   "outputs": [],
   "execution_count": 1
  },
  {
   "metadata": {
    "ExecuteTime": {
     "end_time": "2025-02-08T22:07:20.777920Z",
     "start_time": "2025-02-08T22:07:20.160045Z"
    }
   },
   "cell_type": "code",
   "source": [
    "import pandas as pd\n",
    "books = pd.read_csv(\"books_with_categories.csv\")\n"
   ],
   "id": "9593aeb590b7cb0a",
   "outputs": [],
   "execution_count": 2
  },
  {
   "metadata": {
    "ExecuteTime": {
     "end_time": "2025-02-08T22:18:19.932370Z",
     "start_time": "2025-02-08T22:17:44.546858Z"
    }
   },
   "cell_type": "code",
   "source": [
    "#initialise the fine-tuning model that has been trained on ekmans 6 emotions\n",
    "# NOTE: use dataloop ai for information on models including accuracy: https://dataloop.ai/library/model/j-hartmann_emotion-english-distilroberta-base/\n",
    "from transformers import pipeline\n",
    "#this is going to test our model emotion classification using the model example snippet. It will score the 6 ekman emotions based on the string we pass to the classifier\n",
    "classifier = pipeline(\"text-classification\",\n",
    "                      model=\"j-hartmann/emotion-english-distilroberta-base\",\n",
    "                      top_k= None,\n",
    "                      device = \"mps\"\n",
    "                      )\n",
    "classifier(\"I love this!\")"
   ],
   "id": "818081ae9359b612",
   "outputs": [
    {
     "data": {
      "text/plain": [
       "config.json:   0%|          | 0.00/1.00k [00:00<?, ?B/s]"
      ],
      "application/vnd.jupyter.widget-view+json": {
       "version_major": 2,
       "version_minor": 0,
       "model_id": "8a0f3786217948a28dcbd02b02422953"
      }
     },
     "metadata": {},
     "output_type": "display_data"
    },
    {
     "data": {
      "text/plain": [
       "pytorch_model.bin:   0%|          | 0.00/329M [00:00<?, ?B/s]"
      ],
      "application/vnd.jupyter.widget-view+json": {
       "version_major": 2,
       "version_minor": 0,
       "model_id": "f2f31574e1564bc59586606fda89c00b"
      }
     },
     "metadata": {},
     "output_type": "display_data"
    },
    {
     "data": {
      "text/plain": [
       "tokenizer_config.json:   0%|          | 0.00/294 [00:00<?, ?B/s]"
      ],
      "application/vnd.jupyter.widget-view+json": {
       "version_major": 2,
       "version_minor": 0,
       "model_id": "cb88b5efe6cc4ae6adc4e7381fca9818"
      }
     },
     "metadata": {},
     "output_type": "display_data"
    },
    {
     "data": {
      "text/plain": [
       "vocab.json:   0%|          | 0.00/798k [00:00<?, ?B/s]"
      ],
      "application/vnd.jupyter.widget-view+json": {
       "version_major": 2,
       "version_minor": 0,
       "model_id": "afb2425c36c84779a96316fd336b7e30"
      }
     },
     "metadata": {},
     "output_type": "display_data"
    },
    {
     "data": {
      "text/plain": [
       "merges.txt:   0%|          | 0.00/456k [00:00<?, ?B/s]"
      ],
      "application/vnd.jupyter.widget-view+json": {
       "version_major": 2,
       "version_minor": 0,
       "model_id": "0f17a664d19f4d9394f4fc33b52f32c2"
      }
     },
     "metadata": {},
     "output_type": "display_data"
    },
    {
     "data": {
      "text/plain": [
       "model.safetensors:   0%|          | 0.00/329M [00:00<?, ?B/s]"
      ],
      "application/vnd.jupyter.widget-view+json": {
       "version_major": 2,
       "version_minor": 0,
       "model_id": "db3689a7541943b6bf23af86ccbcd52c"
      }
     },
     "metadata": {},
     "output_type": "display_data"
    },
    {
     "data": {
      "text/plain": [
       "tokenizer.json:   0%|          | 0.00/1.36M [00:00<?, ?B/s]"
      ],
      "application/vnd.jupyter.widget-view+json": {
       "version_major": 2,
       "version_minor": 0,
       "model_id": "eb023c16a54c4e7e9b4a155757901974"
      }
     },
     "metadata": {},
     "output_type": "display_data"
    },
    {
     "data": {
      "text/plain": [
       "special_tokens_map.json:   0%|          | 0.00/239 [00:00<?, ?B/s]"
      ],
      "application/vnd.jupyter.widget-view+json": {
       "version_major": 2,
       "version_minor": 0,
       "model_id": "f8d63aeaef9340d88825cf2ba0f4573b"
      }
     },
     "metadata": {},
     "output_type": "display_data"
    },
    {
     "name": "stderr",
     "output_type": "stream",
     "text": [
      "Device set to use mps\n"
     ]
    },
    {
     "data": {
      "text/plain": [
       "[[{'label': 'joy', 'score': 0.9771687984466553},\n",
       "  {'label': 'surprise', 'score': 0.00852868054062128},\n",
       "  {'label': 'neutral', 'score': 0.005764597561210394},\n",
       "  {'label': 'anger', 'score': 0.004419781267642975},\n",
       "  {'label': 'sadness', 'score': 0.002092391485348344},\n",
       "  {'label': 'disgust', 'score': 0.001611992483958602},\n",
       "  {'label': 'fear', 'score': 0.00041385178337804973}]]"
      ]
     },
     "execution_count": 3,
     "metadata": {},
     "output_type": "execute_result"
    }
   ],
   "execution_count": 3
  },
  {
   "metadata": {
    "ExecuteTime": {
     "end_time": "2025-02-08T22:25:55.189183Z",
     "start_time": "2025-02-08T22:25:49.671937Z"
    }
   },
   "cell_type": "code",
   "source": [
    "# because descriptions are long, and the emotional tone can vary by sentene, we can get more accuracy by passing in for analysis each sentence in a description rather than the whole description as one chunk. As we can see with an example looking at the first description passing in each sentence:\n",
    "classifier(books[\"description\"][0].split(\".\"))"
   ],
   "id": "cd52d88e56afcfb3",
   "outputs": [
    {
     "data": {
      "text/plain": [
       "[[{'label': 'surprise', 'score': 0.7296027541160583},\n",
       "  {'label': 'neutral', 'score': 0.1403856724500656},\n",
       "  {'label': 'fear', 'score': 0.06816212832927704},\n",
       "  {'label': 'joy', 'score': 0.04794240742921829},\n",
       "  {'label': 'anger', 'score': 0.009156349115073681},\n",
       "  {'label': 'disgust', 'score': 0.002628474263474345},\n",
       "  {'label': 'sadness', 'score': 0.0021221607457846403}],\n",
       " [{'label': 'neutral', 'score': 0.449371337890625},\n",
       "  {'label': 'disgust', 'score': 0.2735912799835205},\n",
       "  {'label': 'joy', 'score': 0.10908260941505432},\n",
       "  {'label': 'sadness', 'score': 0.09362735599279404},\n",
       "  {'label': 'anger', 'score': 0.04047820344567299},\n",
       "  {'label': 'surprise', 'score': 0.026970213279128075},\n",
       "  {'label': 'fear', 'score': 0.006879056803882122}],\n",
       " [{'label': 'neutral', 'score': 0.6462153196334839},\n",
       "  {'label': 'sadness', 'score': 0.24273410439491272},\n",
       "  {'label': 'disgust', 'score': 0.04342260584235191},\n",
       "  {'label': 'surprise', 'score': 0.028300518169999123},\n",
       "  {'label': 'joy', 'score': 0.014211433008313179},\n",
       "  {'label': 'fear', 'score': 0.014084103517234325},\n",
       "  {'label': 'anger', 'score': 0.01103186421096325}],\n",
       " [{'label': 'fear', 'score': 0.928168535232544},\n",
       "  {'label': 'anger', 'score': 0.03219064697623253},\n",
       "  {'label': 'neutral', 'score': 0.012808657251298428},\n",
       "  {'label': 'sadness', 'score': 0.008756839670240879},\n",
       "  {'label': 'surprise', 'score': 0.008597886189818382},\n",
       "  {'label': 'disgust', 'score': 0.008431793190538883},\n",
       "  {'label': 'joy', 'score': 0.0010455806041136384}],\n",
       " [{'label': 'sadness', 'score': 0.9671575427055359},\n",
       "  {'label': 'neutral', 'score': 0.015104170888662338},\n",
       "  {'label': 'disgust', 'score': 0.006480605341494083},\n",
       "  {'label': 'fear', 'score': 0.005394000560045242},\n",
       "  {'label': 'surprise', 'score': 0.0022869419772177935},\n",
       "  {'label': 'anger', 'score': 0.001842890284024179},\n",
       "  {'label': 'joy', 'score': 0.00173387979157269}],\n",
       " [{'label': 'joy', 'score': 0.9327973127365112},\n",
       "  {'label': 'disgust', 'score': 0.03771761432290077},\n",
       "  {'label': 'neutral', 'score': 0.01589193381369114},\n",
       "  {'label': 'sadness', 'score': 0.006444534286856651},\n",
       "  {'label': 'anger', 'score': 0.005025009158998728},\n",
       "  {'label': 'surprise', 'score': 0.0015812104102224112},\n",
       "  {'label': 'fear', 'score': 0.0005423093680292368}],\n",
       " [{'label': 'joy', 'score': 0.652869701385498},\n",
       "  {'label': 'neutral', 'score': 0.25427550077438354},\n",
       "  {'label': 'surprise', 'score': 0.0680832490324974},\n",
       "  {'label': 'sadness', 'score': 0.009909017011523247},\n",
       "  {'label': 'disgust', 'score': 0.00651221489533782},\n",
       "  {'label': 'anger', 'score': 0.004821309819817543},\n",
       "  {'label': 'fear', 'score': 0.0035290250089019537}],\n",
       " [{'label': 'neutral', 'score': 0.5494771003723145},\n",
       "  {'label': 'sadness', 'score': 0.11169013381004333},\n",
       "  {'label': 'disgust', 'score': 0.10400660336017609},\n",
       "  {'label': 'surprise', 'score': 0.07876546680927277},\n",
       "  {'label': 'anger', 'score': 0.06413356214761734},\n",
       "  {'label': 'fear', 'score': 0.05136275663971901},\n",
       "  {'label': 'joy', 'score': 0.040564361959695816}]]"
      ]
     },
     "execution_count": 4,
     "metadata": {},
     "output_type": "execute_result"
    }
   ],
   "execution_count": 4
  },
  {
   "metadata": {
    "ExecuteTime": {
     "end_time": "2025-02-08T22:57:22.061510Z",
     "start_time": "2025-02-08T22:57:22.051085Z"
    }
   },
   "cell_type": "code",
   "source": [
    "# the question now is how we can we make sense of multiple emotions for a book?\n",
    "# the solution we wil try is to add a column for each emotion to each book, and get one maximum score for each emotion for a book.\n",
    "# the code we are writing next is to efficiently extract the max emotion probability for each emotion for each description\n",
    "# this also requires re-ordering each output of emotion analysis to be ordered by label instead of score, so we always have the data in the same expected order\n",
    "\n",
    "import numpy as np\n",
    "# set up our emotions list to use as keys\n",
    "emotion_labels = [\"anger\", \"disgust\", \"fear\", \"joy\", \"sadness\", \"surprise\", \"neutral\"]\n",
    "# initialise empty isbn array that will be used later to merge our data back into the books df\n",
    "isbn = []\n",
    "# define an emotion score dictionary comprehension\n",
    "emotion_scores = {label: [] for label in emotion_labels}\n",
    "\n",
    "def calculate_max_emotion_scores(predictions):\n",
    "    per_emotion_scores = {label: [] for label in emotion_labels}\n",
    "    print(f\"Number of predictions: {len(predictions)}\")\n",
    "    for prediction in predictions:\n",
    "        # sort predictions in label order instead of score order\n",
    "        sorted_prediction = sorted(prediction, key=lambda x: x[\"label\"])\n",
    "        # for the index and label in emotion_labels array, append the predicted emotion score to the dictionary comprehension\n",
    "        for index, label, in enumerate(emotion_labels):\n",
    "            per_emotion_scores[label].append(sorted_prediction[index][\"score\"])\n",
    "    # and then return the max score for each of the predictions so that for each description we have a dictionary of emotions containing the max probablit score for each of the emotion labels\n",
    "    return {label: np.max(scores) for label, scores in per_emotion_scores.items()}"
   ],
   "id": "1044f9ea5e208a06",
   "outputs": [],
   "execution_count": 20
  },
  {
   "metadata": {
    "ExecuteTime": {
     "end_time": "2025-02-08T22:57:27.134499Z",
     "start_time": "2025-02-08T22:57:24.992778Z"
    }
   },
   "cell_type": "code",
   "source": [
    "# now we want to apply this function for each of the books.\n",
    "# FIRST , a test\n",
    "for i in range(10):\n",
    "    #append the isbn for our book selection to the empty isbn array\n",
    "    isbn.append(books[\"isbn13\"][i])\n",
    "    if not books[\"description\"][i]:\n",
    "        print(f\"Empty description for book {i}\")\n",
    "        continue\n",
    "\n",
    "    sentences = books[\"description\"][i].split(\".\")\n",
    "    if not sentences:\n",
    "        print(f\"No sentences found for book {i}\")\n",
    "        continue\n",
    "\n",
    "    predictions = classifier(sentences)\n",
    "    # print(f\"Book {i}: Got {len(predictions)} predictions\")\n",
    "    max_scores = calculate_max_emotion_scores(predictions)\n",
    "    # print(f\"Max emotion scores for book {i}: {max_scores}\")\n",
    "    # take resulting scores returned by the calculate max emotion scores dictionary and append it to the emotion score dictionary\n",
    "    for label in emotion_labels:\n",
    "        emotion_scores[label].append(max_scores[label])\n"
   ],
   "id": "c612997d7cf8d3c",
   "outputs": [
    {
     "name": "stdout",
     "output_type": "stream",
     "text": [
      "Number of predictions: 8\n",
      "Number of predictions: 10\n",
      "Number of predictions: 3\n",
      "Number of predictions: 4\n",
      "Number of predictions: 7\n",
      "Number of predictions: 4\n",
      "Number of predictions: 11\n",
      "Number of predictions: 3\n",
      "Number of predictions: 6\n",
      "Number of predictions: 3\n"
     ]
    }
   ],
   "execution_count": 21
  },
  {
   "metadata": {
    "ExecuteTime": {
     "end_time": "2025-02-08T22:57:29.871492Z",
     "start_time": "2025-02-08T22:57:29.862178Z"
    }
   },
   "cell_type": "code",
   "source": "emotion_scores",
   "id": "b6e3d5a471c5c23a",
   "outputs": [
    {
     "data": {
      "text/plain": [
       "{'anger': [0.06413356214761734,\n",
       "  0.612618625164032,\n",
       "  0.06413356214761734,\n",
       "  0.35148370265960693,\n",
       "  0.0814124196767807,\n",
       "  0.23222501575946808,\n",
       "  0.5381841063499451,\n",
       "  0.06413356214761734,\n",
       "  0.3006702959537506,\n",
       "  0.06413356214761734],\n",
       " 'disgust': [0.2735912799835205,\n",
       "  0.3482849597930908,\n",
       "  0.10400660336017609,\n",
       "  0.15072238445281982,\n",
       "  0.1844952255487442,\n",
       "  0.727174699306488,\n",
       "  0.15585507452487946,\n",
       "  0.10400660336017609,\n",
       "  0.2794807255268097,\n",
       "  0.17792712152004242],\n",
       " 'fear': [0.928168535232544,\n",
       "  0.9425278306007385,\n",
       "  0.9723208546638489,\n",
       "  0.3607065975666046,\n",
       "  0.09504325687885284,\n",
       "  0.05136275663971901,\n",
       "  0.7474278807640076,\n",
       "  0.4044959247112274,\n",
       "  0.9155239462852478,\n",
       "  0.05136275663971901],\n",
       " 'joy': [0.9327973127365112,\n",
       "  0.7044211030006409,\n",
       "  0.7672379612922668,\n",
       "  0.2518810033798218,\n",
       "  0.040564361959695816,\n",
       "  0.04337586089968681,\n",
       "  0.8725655674934387,\n",
       "  0.040564361959695816,\n",
       "  0.040564361959695816,\n",
       "  0.040564361959695816],\n",
       " 'sadness': [0.6462153196334839,\n",
       "  0.887939453125,\n",
       "  0.5494771003723145,\n",
       "  0.732686460018158,\n",
       "  0.8843892216682434,\n",
       "  0.6213930249214172,\n",
       "  0.7121943831443787,\n",
       "  0.5494771003723145,\n",
       "  0.8402897119522095,\n",
       "  0.8603722453117371],\n",
       " 'surprise': [0.9671575427055359,\n",
       "  0.11169013381004333,\n",
       "  0.11169013381004333,\n",
       "  0.11169013381004333,\n",
       "  0.47588104009628296,\n",
       "  0.11169013381004333,\n",
       "  0.4079996347427368,\n",
       "  0.8202822804450989,\n",
       "  0.3544590175151825,\n",
       "  0.11169013381004333],\n",
       " 'neutral': [0.7296027541160583,\n",
       "  0.2525450587272644,\n",
       "  0.07876546680927277,\n",
       "  0.07876546680927277,\n",
       "  0.07876546680927277,\n",
       "  0.2719023823738098,\n",
       "  0.07876546680927277,\n",
       "  0.23448771238327026,\n",
       "  0.13561463356018066,\n",
       "  0.07876546680927277]}"
      ]
     },
     "execution_count": 22,
     "metadata": {},
     "output_type": "execute_result"
    }
   ],
   "execution_count": 22
  }
 ],
 "metadata": {
  "kernelspec": {
   "display_name": "Python 3",
   "language": "python",
   "name": "python3"
  },
  "language_info": {
   "codemirror_mode": {
    "name": "ipython",
    "version": 2
   },
   "file_extension": ".py",
   "mimetype": "text/x-python",
   "name": "python",
   "nbconvert_exporter": "python",
   "pygments_lexer": "ipython2",
   "version": "2.7.6"
  }
 },
 "nbformat": 4,
 "nbformat_minor": 5
}
